{
  "nbformat": 4,
  "nbformat_minor": 0,
  "metadata": {
    "colab": {
      "provenance": [],
      "authorship_tag": "ABX9TyNWt/H7iR57U3jem2PxOo9N",
      "include_colab_link": true
    },
    "kernelspec": {
      "name": "python3",
      "display_name": "Python 3"
    },
    "language_info": {
      "name": "python"
    }
  },
  "cells": [
    {
      "cell_type": "markdown",
      "metadata": {
        "id": "view-in-github",
        "colab_type": "text"
      },
      "source": [
        "<a href=\"https://colab.research.google.com/github/lyj12h/ai_m/blob/main/Bigdataclass_logisticregression.ipynb\" target=\"_parent\"><img src=\"https://colab.research.google.com/assets/colab-badge.svg\" alt=\"Open In Colab\"/></a>"
      ]
    },
    {
      "cell_type": "code",
      "execution_count": 1,
      "metadata": {
        "id": "vYRAGIrqMxQE"
      },
      "outputs": [],
      "source": [
        "# used for manipulating directory paths\n",
        "import os\n",
        "\n",
        "# Scientific and vector computation for python\n",
        "import numpy as np\n",
        "\n",
        "# Plotting library\n",
        "from matplotlib import pyplot\n",
        "\n",
        "# Optimization module in scipy\n",
        "from scipy import optimize\n",
        "\n",
        "# tells matplotlib to embed plots within the notebook\n",
        "%matplotlib inline"
      ]
    },
    {
      "cell_type": "code",
      "source": [
        "# Load data\n",
        "# The first two columns contains the exam scores and the third column\n",
        "# contains the label.\n",
        "\n",
        "data = np.loadtxt('ex2data1.txt', delimiter=',')\n",
        "X, y = data[:, 0:2], data[:, 2]"
      ],
      "metadata": {
        "id": "TNurmJBiM1Sj"
      },
      "execution_count": 2,
      "outputs": []
    },
    {
      "cell_type": "code",
      "source": [
        "pos = np.where(y==1)\n",
        "neg = np.where(y==0)"
      ],
      "metadata": {
        "id": "0_6Yi29UM9xT"
      },
      "execution_count": 3,
      "outputs": []
    },
    {
      "cell_type": "code",
      "source": [
        "pyplot.scatter(X[pos, 0], X[pos, 1], c='black')\n",
        "pyplot.scatter(X[neg, 0], X[neg, 1], c='red')\n",
        "pyplot.legend(['pos', 'neg'])"
      ],
      "metadata": {
        "colab": {
          "base_uri": "https://localhost:8080/",
          "height": 448
        },
        "id": "Z8zko_WUM_xK",
        "outputId": "eaec71fe-0654-4086-a5f3-23ce10e2789b"
      },
      "execution_count": 4,
      "outputs": [
        {
          "output_type": "execute_result",
          "data": {
            "text/plain": [
              "<matplotlib.legend.Legend at 0x7fc2e5127b50>"
            ]
          },
          "metadata": {},
          "execution_count": 4
        },
        {
          "output_type": "display_data",
          "data": {
            "text/plain": [
              "<Figure size 640x480 with 1 Axes>"
            ],
            "image/png": "[encoded data removed]"
          },
          "metadata": {}
        }
      ]
    },
    {
      "cell_type": "code",
      "source": [
        "def plotData(X, y):\n",
        "    # Create New Figure\n",
        "    fig = pyplot.figure()\n",
        "\n",
        "    # ====================== YOUR CODE HERE ======================\n",
        "    pos = np.where(y==1)\n",
        "    neg = np.where(y==0)\n",
        "\n",
        "    pyplot.scatter(X[pos, 0], X[pos, 1], c='black')\n",
        "    pyplot.scatter(X[neg, 0], X[neg, 1], c='red')\n",
        "    pyplot.legend(['pos', 'neg'])\n",
        "    # ============================================================"
      ],
      "metadata": {
        "id": "n-4i7rekNBM8"
      },
      "execution_count": 5,
      "outputs": []
    },
    {
      "cell_type": "code",
      "source": [
        "def sigmoid(z):\n",
        "    # convert input to a numpy array\n",
        "    z = np.array(z)\n",
        "\n",
        "    # You need to return the following variables correctly\n",
        "    g = np.zeros(z.shape)\n",
        "\n",
        "    # ====================== YOUR CODE HERE ======================\n",
        "    g = 1/(1+np.exp(-z))\n",
        "    # =============================================================\n",
        "    return g"
      ],
      "metadata": {
        "id": "8kTtIHV5NEAh"
      },
      "execution_count": 6,
      "outputs": []
    },
    {
      "cell_type": "code",
      "source": [
        "# Test the implementation of sigmoid function here\n",
        "z = 0\n",
        "g = sigmoid(z)\n",
        "\n",
        "print('g(', z, ') = ', g)"
      ],
      "metadata": {
        "colab": {
          "base_uri": "https://localhost:8080/"
        },
        "id": "gVxwi8-CNHIb",
        "outputId": "f55baa2d-6856-4dcb-db32-a08fba602c89"
      },
      "execution_count": 7,
      "outputs": [
        {
          "output_type": "stream",
          "name": "stdout",
          "text": [
            "g( 0 ) =  0.5\n"
          ]
        }
      ]
    },
    {
      "cell_type": "code",
      "source": [
        "# Setup the data matrix appropriately, and add ones for the intercept term\n",
        "m, n = X.shape\n",
        "\n",
        "# Add intercept term to X\n",
        "X = np.concatenate([np.ones((m, 1)), X], axis=1)"
      ],
      "metadata": {
        "id": "MxCwtxxfNMZY"
      },
      "execution_count": 8,
      "outputs": []
    },
    {
      "cell_type": "code",
      "source": [
        "grad.shape"
      ],
      "metadata": {
        "colab": {
          "base_uri": "https://localhost:8080/"
        },
        "id": "VLsR_v1DOoYf",
        "outputId": "2f12f246-52ba-4184-b983-7bb063cd6fc0"
      },
      "execution_count": 33,
      "outputs": [
        {
          "output_type": "execute_result",
          "data": {
            "text/plain": [
              "(3,)"
            ]
          },
          "metadata": {},
          "execution_count": 33
        }
      ]
    },
    {
      "cell_type": "code",
      "source": [
        "def costFunction(theta, X, y):\n",
        "    # Initialize some useful values\n",
        "    m = y.size  # number of training examples\n",
        "\n",
        "    # You need to return the following variables correctly\n",
        "    J = 0\n",
        "    grad = np.zeros(theta.shape)\n",
        "\n",
        "    # ====================== YOUR CODE HERE ======================\n",
        "    y_hat=np.dot(X,theta)\n",
        "    J = 1/m * np.sum(-y*np.log(sigmoid(y_hat))-(1-y)*np.log(1-sigmoid(y_hat)))\n",
        "    error=sigmoid(y_hat)-y\n",
        "    grad = 1/m * np.dot(error,X)\n",
        "    # =============================================================\n",
        "    return J, grad"
      ],
      "metadata": {
        "id": "UoLEaC0FNNoF"
      },
      "execution_count": 25,
      "outputs": []
    },
    {
      "cell_type": "code",
      "source": [
        "# Initialize fitting parameters\n",
        "initial_theta = np.zeros(n+1)\n",
        "\n",
        "cost, grad = costFunction(initial_theta, X, y)\n",
        "\n",
        "print('Cost at initial theta (zeros): {:.3f}'.format(cost))\n",
        "print('Expected cost (approx): 0.693\\n')\n",
        "\n",
        "print('Gradient at initial theta (zeros):')\n",
        "print('\\t[{:.4f}, {:.4f}, {:.4f}]'.format(*grad))\n",
        "print('Expected gradients (approx):\\n\\t[-0.1000, -12.0092, -11.2628]\\n')"
      ],
      "metadata": {
        "colab": {
          "base_uri": "https://localhost:8080/"
        },
        "id": "_dntPF4eNPPR",
        "outputId": "eafba501-0e90-401e-83a7-2eee60864a45"
      },
      "execution_count": 26,
      "outputs": [
        {
          "output_type": "stream",
          "name": "stdout",
          "text": [
            "Cost at initial theta (zeros): 0.693\n",
            "Expected cost (approx): 0.693\n",
            "\n",
            "Gradient at initial theta (zeros):\n",
            "\t[-0.1000, -12.0092, -11.2628]\n",
            "Expected gradients (approx):\n",
            "\t[-0.1000, -12.0092, -11.2628]\n",
            "\n"
          ]
        }
      ]
    },
    {
      "cell_type": "code",
      "source": [
        "# Compute and display cost and gradient with non-zero theta\n",
        "test_theta = np.array([-24, 0.2, 0.2])\n",
        "cost, grad = costFunction(test_theta, X, y)\n",
        "\n",
        "print('Cost at test theta: {:.3f}'.format(cost))\n",
        "print('Expected cost (approx): 0.218\\n')\n",
        "\n",
        "print('Gradient at test theta:')\n",
        "print('\\t[{:.3f}, {:.3f}, {:.3f}]'.format(*grad))\n",
        "print('Expected gradients (approx):\\n\\t[0.043, 2.566, 2.647]')"
      ],
      "metadata": {
        "colab": {
          "base_uri": "https://localhost:8080/"
        },
        "id": "xNFj4DH9NQsZ",
        "outputId": "a81c0553-9158-46da-9bd2-784e731ac5a6"
      },
      "execution_count": 27,
      "outputs": [
        {
          "output_type": "stream",
          "name": "stdout",
          "text": [
            "Cost at test theta: 0.218\n",
            "Expected cost (approx): 0.218\n",
            "\n",
            "Gradient at test theta:\n",
            "\t[0.043, 2.566, 2.647]\n",
            "Expected gradients (approx):\n",
            "\t[0.043, 2.566, 2.647]\n"
          ]
        }
      ]
    },
    {
      "cell_type": "code",
      "source": [
        "# set options for optimize.minimize\n",
        "options= {'maxiter': 400}\n",
        "\n",
        "res = optimize.minimize(costFunction,\n",
        "                        initial_theta,\n",
        "                        (X, y),\n",
        "                        jac=True,\n",
        "                        method='TNC',\n",
        "                        options=options)\n",
        "\n",
        "# the fun property of `OptimizeResult` object returns\n",
        "# the value of costFunction at optimized theta\n",
        "cost = res.fun\n",
        "\n",
        "# the optimized theta is in the x property\n",
        "theta = res.x\n",
        "\n",
        "# Print theta to screen\n",
        "print('Cost at theta found by optimize.minimize: {:.3f}'.format(cost))\n",
        "print('Expected cost (approx): 0.203\\n');\n",
        "\n",
        "print('theta:')\n",
        "print('\\t[{:.3f}, {:.3f}, {:.3f}]'.format(*theta))\n",
        "print('Expected theta (approx):\\n\\t[-25.161, 0.206, 0.201]')"
      ],
      "metadata": {
        "colab": {
          "base_uri": "https://localhost:8080/"
        },
        "id": "_nf6TjstNS1P",
        "outputId": "aace8cdf-7db9-40ee-b82f-fcad4f86200f"
      },
      "execution_count": 28,
      "outputs": [
        {
          "output_type": "stream",
          "name": "stdout",
          "text": [
            "Cost at theta found by optimize.minimize: 0.203\n",
            "Expected cost (approx): 0.203\n",
            "\n",
            "theta:\n",
            "\t[-25.161, 0.206, 0.201]\n",
            "Expected theta (approx):\n",
            "\t[-25.161, 0.206, 0.201]\n"
          ]
        },
        {
          "output_type": "stream",
          "name": "stderr",
          "text": [
            "<ipython-input-28-f4105ff9dcce>:4: OptimizeWarning: Unknown solver options: maxiter\n",
            "  res = optimize.minimize(costFunction,\n"
          ]
        }
      ]
    },
    {
      "cell_type": "code",
      "source": [
        "# 실행\n",
        "plot_x = np.array([np.min(X[:, 1]), np.max(X[:, 1])])\n",
        "plot_y = (-1. / theta[2]) * (theta[1] * plot_x + theta[0])\n",
        "pyplot.plot(plot_x, plot_y)\n",
        "pyplot.scatter(X[pos, 1], X[pos, 2], c='black')\n",
        "pyplot.scatter(X[neg, 1], X[neg, 2], c='red')"
      ],
      "metadata": {
        "colab": {
          "base_uri": "https://localhost:8080/",
          "height": 448
        },
        "id": "GVwXjSMANVrt",
        "outputId": "6874b55c-98e1-4f7f-a71b-5bc753b8149f"
      },
      "execution_count": 29,
      "outputs": [
        {
          "output_type": "execute_result",
          "data": {
            "text/plain": [
              "<matplotlib.collections.PathCollection at 0x7fc2d7c457e0>"
            ]
          },
          "metadata": {},
          "execution_count": 29
        },
        {
          "output_type": "display_data",
          "data": {
            "text/plain": [
              "<Figure size 640x480 with 1 Axes>"
            ],
            "image/png": "[encoded data removed]"
          },
          "metadata": {}
        }
      ]
    },
    {
      "cell_type": "code",
      "source": [
        "#  Predict probability for a student with score 45 on exam 1\n",
        "#  and score 85 on exam 2\n",
        "prob = sigmoid(np.dot([1, 45, 85], theta))\n",
        "print('For a student with scores 45 and 85,'\n",
        "      'we predict an admission probability of {:.3f}'.format(prob))\n",
        "print('Expected value: 0.775 +/- 0.002\\n')"
      ],
      "metadata": {
        "colab": {
          "base_uri": "https://localhost:8080/"
        },
        "id": "tVvSF5GFNYEY",
        "outputId": "3f7ca06e-53ec-438f-b194-bf5ebc9cb401"
      },
      "execution_count": 30,
      "outputs": [
        {
          "output_type": "stream",
          "name": "stdout",
          "text": [
            "For a student with scores 45 and 85,we predict an admission probability of 0.776\n",
            "Expected value: 0.775 +/- 0.002\n",
            "\n"
          ]
        }
      ]
    }
  ]
}